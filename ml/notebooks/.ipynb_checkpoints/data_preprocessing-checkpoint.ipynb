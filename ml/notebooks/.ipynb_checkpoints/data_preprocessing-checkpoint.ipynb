{
 "cells": [
  {
   "cell_type": "code",
   "execution_count": 1,
   "id": "cdc16480",
   "metadata": {},
   "outputs": [],
   "source": [
    "import time\n",
    "import warnings\n",
    "from math import sqrt\n",
    "\n",
    "import numpy as np\n",
    "import pandas as pd\n",
    "import matplotlib\n",
    "import matplotlib.pyplot as plt\n",
    "import seaborn as sns\n",
    "from sklearn.preprocessing import LabelEncoder, FunctionTransformer\n",
    "from sklearn.pipeline import Pipeline\n",
    "from sklearn.metrics import mean_squared_error, make_scorer\n",
    "from sklearn.model_selection import train_test_split\n",
    "\n",
    "# warnings.filterwarnings(action=\"ignore\", message=\"Mean of empty slice\")\n",
    "warnings.filterwarnings(\"ignore\")\n",
    "\n",
    "matplotlib.style.use(\"ggplot\")\n",
    "pd.set_option(\"display.max_rows\", 30)\n",
    "pd.options.mode.chained_assignment = None"
   ]
  },
  {
   "cell_type": "code",
   "execution_count": 2,
   "id": "d06182c5",
   "metadata": {},
   "outputs": [],
   "source": [
    "%load_ext autoreload\n",
    "%autoreload 2"
   ]
  },
  {
   "cell_type": "code",
   "execution_count": 3,
   "id": "4847d423",
   "metadata": {},
   "outputs": [],
   "source": [
    "import sys\n",
    "sys.path.append('../src')\n",
    "\n",
    "from data_preprocessing import split, label_encode"
   ]
  },
  {
   "cell_type": "code",
   "execution_count": 5,
   "id": "0f85e162",
   "metadata": {},
   "outputs": [],
   "source": [
    "X_train = pd.read_csv('../data/X_train.csv', parse_dates=['reportts'])\n",
    "y_train = pd.read_csv('../data/y_train.csv', parse_dates=['reportts'])\n",
    "\n",
    "# X_test = pd.read_csv('../data/X_test.csv', parse_dates=['reportts'])\n",
    "\n",
    "X_train.rename(columns={\"reportts\": \"datetime\"}, inplace=True);\n",
    "# X_test.rename(columns={\"reportts\": \"datetime\"}, inplace=True);\n",
    "y_train.rename(columns={\"reportts\": \"datetime\"}, inplace=True);\n",
    "\n",
    "dataset = X_train.merge(y_train, on=['acnum', 'pos', 'datetime']).dropna(subset=['egtm'])\n",
    "dataset_time_sorted = dataset.sort_values(by='datetime').reset_index(drop=True)"
   ]
  },
  {
   "cell_type": "code",
   "execution_count": 6,
   "id": "a14cb387",
   "metadata": {},
   "outputs": [],
   "source": [
    "pipeline_BGU = Pipeline([\n",
    "    ('drop_nan_columns', FunctionTransformer(lambda X: X.dropna(axis=1, how='all'))),\n",
    "#     ('custom_feature_engineering', FunctionTransformer(custom_feature_engineering)),\n",
    "    ('filter_data', FunctionTransformer(lambda X: X[X['acnum'] == 'VQ-BGU'].reset_index(drop=True))),\n",
    "    ('label_encode', FunctionTransformer(label_encode)),\n",
    "    ('train_test_split', FunctionTransformer(split))\n",
    "])\n"
   ]
  },
  {
   "cell_type": "code",
   "execution_count": 7,
   "id": "34d64801",
   "metadata": {},
   "outputs": [],
   "source": [
    "pipeline_BDU = Pipeline([\n",
    "    ('drop_nan_columns', FunctionTransformer(lambda X: X.dropna(axis=1, how='all'))),\n",
    "#     ('custom_feature_engineering', FunctionTransformer(custom_feature_engineering)),\n",
    "    ('filter_data', FunctionTransformer(lambda X: X[X['acnum'] == 'VQ-BDU'].reset_index(drop=True))),\n",
    "    ('label_encode', FunctionTransformer(label_encode)),\n",
    "    ('train_test_split', FunctionTransformer(split))\n",
    "])"
   ]
  },
  {
   "cell_type": "code",
   "execution_count": 8,
   "id": "18679ec2",
   "metadata": {
    "scrolled": true
   },
   "outputs": [],
   "source": [
    "X_train_BGU, X_val_BGU, y_train_BGU, y_val_BGU = pipeline_BGU.fit_transform(dataset)\n",
    "\n",
    "# Fill NaNs after train-test split\n",
    "# imputer = SimpleImputer(strategy='constant', fill_value=0)\n",
    "# X_train = imputer.fit_transform(X_train)\n",
    "# X_test = imputer.transform(X_test)\n"
   ]
  },
  {
   "cell_type": "code",
   "execution_count": 9,
   "id": "319b19eb",
   "metadata": {},
   "outputs": [],
   "source": [
    "X_train_BDU, X_val_BDU, y_train_BDU, y_val_BDU = pipeline_BDU.fit_transform(dataset)"
   ]
  },
  {
   "cell_type": "code",
   "execution_count": 11,
   "id": "73713b76",
   "metadata": {},
   "outputs": [],
   "source": [
    "# Save X_train and X_val to CSV files\n",
    "X_train_BGU.to_csv('../tmp_data/X_train_BGU.csv', index=False)\n",
    "X_val_BGU.to_csv('../tmp_data/X_val_BGU.csv', index=False)\n",
    "\n",
    "# Save y_train and y_val to CSV files\n",
    "y_train_BGU.to_csv('../tmp_data/y_train_BGU.csv', index=False, header=True)\n",
    "y_val_BGU.to_csv('../tmp_data/y_val_BGU.csv', index=False, header=True)"
   ]
  }
 ],
 "metadata": {
  "kernelspec": {
   "display_name": "Python 3 (ipykernel)",
   "language": "python",
   "name": "python3"
  },
  "language_info": {
   "codemirror_mode": {
    "name": "ipython",
    "version": 3
   },
   "file_extension": ".py",
   "mimetype": "text/x-python",
   "name": "python",
   "nbconvert_exporter": "python",
   "pygments_lexer": "ipython3",
   "version": "3.11.7"
  }
 },
 "nbformat": 4,
 "nbformat_minor": 5
}
