{
 "cells": [
  {
   "cell_type": "code",
   "execution_count": 23,
   "id": "470f936c",
   "metadata": {},
   "outputs": [
    {
     "name": "stdout",
     "output_type": "stream",
     "text": [
      "Mean Squared Error: 8.685598135124529\n"
     ]
    }
   ],
   "source": [
    "import xgboost as xgb\n",
    "import pandas as pd\n",
    "import numpy as np\n",
    "from sklearn.model_selection import train_test_split\n",
    "from numpy import tanh, cosh\n",
    "\n",
    "def get_gradient(x):\n",
    "    return len(x) * tanh(x)\n",
    "\n",
    "def get_hess(x):\n",
    "    sech = 1 / cosh(x)\n",
    "    return len(x) * np.power(sech, 2)\n",
    "\n",
    "def custom_log_cosh_loss(predictions, dmat):\n",
    "    targets = dmat.get_label()\n",
    "    x = predictions - targets\n",
    "    grad = get_gradient(x)\n",
    "    hess = get_hess(x)\n",
    "    return grad, hess\n",
    "\n",
    "# Load Boston housing dataset\n",
    "data_url = \"http://lib.stat.cmu.edu/datasets/boston\"\n",
    "raw_df = pd.read_csv(data_url, sep=\"\\s+\", skiprows=22, header=None)\n",
    "data = np.hstack([raw_df.values[::2, :], raw_df.values[1::2, :2]])\n",
    "target = raw_df.values[1::2, 2]\n",
    "\n",
    "X = data\n",
    "y = target\n",
    "\n",
    "# Split the data into training and testing sets\n",
    "X_train, X_test, y_train, y_test = train_test_split(X, y, test_size=0.2, random_state=42)\n",
    "\n",
    "def gradient_se(y_pred, y_true):\n",
    "        #Compute the gradient squared error.\n",
    "        return 2*(y_pred - y_true)\n",
    "\n",
    "def hessian_se(y_pred, y_true):\n",
    "        #Compute the hessian for squared error\n",
    "        return 0*y_true + 2\n",
    "\n",
    "def custom_se(y_pred, y_true):\n",
    "        #squared error objective. A simplified version of MSE used as\n",
    "        #objective function.\n",
    "\n",
    "        grad = gradient_se(y_pred, y_true.get_label())\n",
    "        hess = hessian_se(y_pred, y_true.get_label())\n",
    "        return grad, hess\n",
    "\n",
    "# Create DMatrix for XGBoost\n",
    "dtrain = xgb.DMatrix(X_train, label=y_train)\n",
    "dtest = xgb.DMatrix(X_test, label=y_test)\n",
    "\n",
    "# Specify parameters\n",
    "params = {\n",
    "#     'objective': 'reg:squarederror',\n",
    "    'eval_metric': 'rmse',  # Just for evaluation purpose\n",
    "    'tree_method': 'hist',\n",
    "    'booster': 'dart',\n",
    "               'max_depth': '3',\n",
    "               'max_leaves': '9',\n",
    "               'min_child_weight': '14',\n",
    "               'one_drop': '1',\n",
    "               'rate_drop': '0.05',\n",
    "}\n",
    "\n",
    "# Train the model\n",
    "num_rounds = 100\n",
    "model = xgb.train(params, dtrain, num_rounds, obj=custom_se) # \n",
    "\n",
    "# Make predictions\n",
    "predictions = model.predict(dtest)\n",
    "\n",
    "# Evaluate the model\n",
    "from sklearn.metrics import mean_squared_error\n",
    "mse = mean_squared_error(y_test, predictions)\n",
    "print(\"Mean Squared Error:\", mse)\n"
   ]
  }
 ],
 "metadata": {
  "kernelspec": {
   "display_name": "Python 3 (ipykernel)",
   "language": "python",
   "name": "python3"
  },
  "language_info": {
   "codemirror_mode": {
    "name": "ipython",
    "version": 3
   },
   "file_extension": ".py",
   "mimetype": "text/x-python",
   "name": "python",
   "nbconvert_exporter": "python",
   "pygments_lexer": "ipython3",
   "version": "3.11.7"
  }
 },
 "nbformat": 4,
 "nbformat_minor": 5
}
